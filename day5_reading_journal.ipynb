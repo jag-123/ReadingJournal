{
 "cells": [
  {
   "cell_type": "markdown",
   "metadata": {},
   "source": [
    "# Day 5 Reading Journal\n",
    "\n",
    "This journal includes several required exercises, but it is meant to encourage active reading more generally.  You should use the journal to take detailed notes, catalog questions, and explore the content from Think Python deeply.\n",
    "\n",
    "Reading: Think Python Chapter 4\n",
    "\n",
    "**Due: Monday, February 8 at 12 noon**\n",
    "\n"
   ]
  },
  {
   "cell_type": "markdown",
   "metadata": {},
   "source": [
    "## [Chapter 4](http://www.greenteapress.com/thinkpython/html/thinkpython005.html)\n",
    "\n",
    "In today's reading, you'll be exploring TurtleWorld!\n",
    "TurtleWorld is part of the [swampy](http://www.greenteapress.com/thinkpython/swampy/) package, written by Allen Downey.\n",
    "As part of the [Get Set](https://sites.google.com/site/sd16spring/home/assignments-and-mini-projects/setup-your-environment) assignment, you installed the swampy package using the pip Python package management tool. If you somehow missed that step or you see errors when you try to import TurtleWorld, you can install swampy by running:\n",
    "\n",
    "```\n",
    "sudo pip install swampy\n",
    "```\n",
    "\n",
    "at the command line.\n",
    "\n",
    "### Turtle wrangling\n",
    "\n",
    "You can always run your code as separate Python scripts, but here are a few tips for mixing TurtleWorld with Jupyter notebook:\n",
    "\n",
    " - TurtleWorld will appear in a new GUI window, rather than inline in the notebook like typical results do\n",
    " - You will not be able to close the TurtleWorld window unless you run `wait_for_user()` as the last line of your code.\n",
    " - Jupyter notebook works like one big Python script, even though it is broken up into sections. This means that you could create a Turtle in one cell, move it in a later cell, and then `wait_for_user()` in yet another. Despite this, it might be easier to treat each cell in this assignment as a separate script, creating a new world at the beginning and destroying it at the end of each."
   ]
  },
  {
   "cell_type": "markdown",
   "metadata": {},
   "source": [
    "### Get started\n",
    "\n",
    "Run the code in the cell below and make sure everything works. You should see brave Alice spring into the world and run forward. You can close the window when you're done by clicking on the 'X'. If this simple test doesn't work, check your swampy install (especially if you get an `ImportError`) and ask for help."
   ]
  },
  {
   "cell_type": "code",
   "execution_count": 13,
   "metadata": {
    "collapsed": true
   },
   "outputs": [],
   "source": [
    "from swampy.TurtleWorld import *\n",
    "\n",
    "# Create the world, and a turtle to put in it\n",
    "world = TurtleWorld()\n",
    "alice = Turtle()\n",
    "\n",
    "# Get moving, turtle!\n",
    "fd(alice, 50)\n",
    "\n",
    "# Wait for the user to close the window\n",
    "wait_for_user()"
   ]
  },
  {
   "cell_type": "markdown",
   "metadata": {},
   "source": [
    "## 4.2 Simple repetition"
   ]
  },
  {
   "cell_type": "code",
   "execution_count": 4,
   "metadata": {
    "collapsed": false
   },
   "outputs": [],
   "source": [
    "# can use for loops with swampy\n",
    "from swampy.TurtleWorld import *\n",
    "world = TurtleWorld()\n",
    "bob = Turtle()\n",
    "\n",
    "for i in range(4):\n",
    "    fd(bob, 100)\n",
    "    lt(bob)\n",
    "    \n",
    "wait_for_user()"
   ]
  },
  {
   "cell_type": "markdown",
   "metadata": {
    "is_question": true,
    "problem": "Section 4.3"
   },
   "source": [
    "### Section 4.3 exercises\n",
    "Work through exercises 1-5 in Section 4.3, creating the `square`, `polygon`, `circle`, and `arc` functions. You can reference Allen's solutions, but please try the problems on your own first."
   ]
  },
  {
   "cell_type": "code",
   "execution_count": 6,
   "metadata": {
    "collapsed": false,
    "solution": "Section 4.3"
   },
   "outputs": [],
   "source": [
    "world = TurtleWorld()\n",
    "alice = Turtle()\n",
    "\n",
    "def square(t,length):\n",
    "    for i in range(4):\n",
    "        fd(t,length)\n",
    "        lt(t)\n",
    "        \n",
    "square(alice,200)\n",
    "\n",
    "wait_for_user()"
   ]
  },
  {
   "cell_type": "code",
   "execution_count": 7,
   "metadata": {
    "collapsed": true
   },
   "outputs": [],
   "source": [
    "world = TurtleWorld()\n",
    "alice = Turtle()\n",
    "\n",
    "def polygon(t,length,n):\n",
    "    for i in range(n):\n",
    "        fd(t,length)\n",
    "        lt(t,360.0/n)\n",
    "        \n",
    "polygon(alice,200,7)\n",
    "\n",
    "wait_for_user()"
   ]
  },
  {
   "cell_type": "code",
   "execution_count": 22,
   "metadata": {
    "collapsed": false
   },
   "outputs": [],
   "source": [
    "from math import pi\n",
    "world = TurtleWorld()\n",
    "alice = Turtle()\n",
    "\n",
    "def circle(t,r):\n",
    "    t.delay = 0.01\n",
    "    circumference = pi * 2 * r\n",
    "    n = int(circumference/2)\n",
    "    length = circumference/n\n",
    "    polygon (t,length,n)\n",
    "    \n",
    "circle(alice,50)\n",
    "\n",
    "wait_for_user()"
   ]
  },
  {
   "cell_type": "code",
   "execution_count": 23,
   "metadata": {
    "collapsed": true
   },
   "outputs": [],
   "source": [
    "world = TurtleWorld()\n",
    "alice = Turtle()\n",
    "\n",
    "def arc(t,r,angle):\n",
    "    t.delay = 0.01\n",
    "    arc_length = pi * 2 * r * (angle/360.0)\n",
    "    n = int(arc_length/2)\n",
    "    small_length = arc_length/n\n",
    "    small_angle = float(angle)/n\n",
    "    for i in range(n):\n",
    "        fd(t,small_length)\n",
    "        lt(t,small_angle)\n",
    "    \n",
    "arc(alice,50,270)\n",
    "\n",
    "wait_for_user()"
   ]
  },
  {
   "cell_type": "markdown",
   "metadata": {},
   "source": [
    "## 4.4 Encapsulation"
   ]
  },
  {
   "cell_type": "markdown",
   "metadata": {},
   "source": [
    "wrapping up a piece of code in a function is called encapsulation"
   ]
  },
  {
   "cell_type": "markdown",
   "metadata": {},
   "source": [
    "## 4.5 Generalization"
   ]
  },
  {
   "cell_type": "markdown",
   "metadata": {},
   "source": [
    "adding a parameter to a function is called generalization because it makes the function more general"
   ]
  },
  {
   "cell_type": "markdown",
   "metadata": {},
   "source": [
    "## 4.6 Interface design"
   ]
  },
  {
   "cell_type": "markdown",
   "metadata": {},
   "source": [
    "the interface of a function is a summary of how it is used"
   ]
  },
  {
   "cell_type": "markdown",
   "metadata": {},
   "source": [
    "## 4.7 Refactoring"
   ]
  },
  {
   "cell_type": "markdown",
   "metadata": {},
   "source": [
    "the process of rearranging a program to improve function interfaces and facilitate code re-use is called refactoring\n",
    "\n",
    "in this case we could notice the similar code in arc and polygon and write a new function called polyline"
   ]
  },
  {
   "cell_type": "code",
   "execution_count": 25,
   "metadata": {
    "collapsed": true
   },
   "outputs": [],
   "source": [
    "def polyline(t,n,length,angle):\n",
    "    for i in range(n):\n",
    "        fd(t,length)\n",
    "        lt(t,angle)"
   ]
  },
  {
   "cell_type": "markdown",
   "metadata": {},
   "source": [
    "## 4.8 development plan"
   ]
  },
  {
   "cell_type": "markdown",
   "metadata": {},
   "source": [
    "a development plan is a process for writing programs. the process we used was \"encapsulation and generalization\""
   ]
  },
  {
   "cell_type": "markdown",
   "metadata": {},
   "source": [
    "## 4.9 docstring"
   ]
  },
  {
   "cell_type": "markdown",
   "metadata": {},
   "source": [
    "a docstring is a string at the beginning of a function that explains the interface. "
   ]
  },
  {
   "cell_type": "code",
   "execution_count": 26,
   "metadata": {
    "collapsed": true
   },
   "outputs": [],
   "source": [
    "def polyline(t,n,length,angle):\n",
    "    \"\"\"Draws n line segmetns with the given length and angle(in degrees)\n",
    "    between them. t is a turle.\"\"\"\n",
    "    for i in range(n):\n",
    "        fd(t,length)\n",
    "        lt(t,angle)"
   ]
  },
  {
   "cell_type": "markdown",
   "metadata": {
    "is_question": true,
    "problem": "More fun"
   },
   "source": [
    "### Exercise: More fun with Turtles!\n",
    "Complete at least one of Exercise 2, 3, 4, or 5. If you come up with some cool drawings you'd like to share with the rest of the class, let us know!"
   ]
  },
  {
   "cell_type": "code",
   "execution_count": 39,
   "metadata": {
    "collapsed": false,
    "solution": "More fun"
   },
   "outputs": [],
   "source": [
    "# Exercise 2\n",
    "\n",
    "world = TurtleWorld()\n",
    "alice = Turtle()\n",
    "\n",
    "def petal(t,r,angle):\n",
    "    for i in range(2):\n",
    "        arc(t,r,angle)\n",
    "        lt(t,180-angle)\n",
    "\n",
    "def flower(t,r,petals,angle):\n",
    "    for i in range(petals):\n",
    "        petal(t,r,angle)\n",
    "        lt(t,360.0/petals)\n",
    "        \n",
    "flower(alice,50,10,70)\n",
    "wait_for_user()"
   ]
  },
  {
   "cell_type": "markdown",
   "metadata": {},
   "source": [
    "## Reading Journal feedback\n",
    "\n",
    "Have any comments on this Reading Journal? Feel free to leave them below and we'll read them when you submit your journal entry. This could include suggestions to improve the exercises, topics you'd like to see covered in class next time, or other feedback.\n",
    "\n",
    "If you have Python questions or run into problems while completing the reading, you should post them to Piazza instead so you can get a quick response before your journal is submitted."
   ]
  },
  {
   "cell_type": "markdown",
   "metadata": {},
   "source": [
    " "
   ]
  }
 ],
 "metadata": {
  "kernelspec": {
   "display_name": "Python 2",
   "language": "python",
   "name": "python2"
  },
  "language_info": {
   "codemirror_mode": {
    "name": "ipython",
    "version": 2
   },
   "file_extension": ".py",
   "mimetype": "text/x-python",
   "name": "python",
   "nbconvert_exporter": "python",
   "pygments_lexer": "ipython2",
   "version": "2.7.6"
  }
 },
 "nbformat": 4,
 "nbformat_minor": 0
}
