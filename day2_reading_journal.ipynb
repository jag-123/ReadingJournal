{
 "cells": [
  {
   "cell_type": "markdown",
   "metadata": {},
   "source": [
    "# Day 2 Reading Journal\n",
    "\n",
    "This journal includes several required exercises, but it is meant to encourage active reading more generally.  You should use the journal to take detailed notes, catalog questions, and explore the content from Think Python deeply.\n",
    "\n",
    "Reading: Think Python Chapter 6.1-6.4, 7\n",
    "\n",
    "**Due: Thursday, January 28 at 12 noon**\n",
    "\n"
   ]
  },
  {
   "cell_type": "markdown",
   "metadata": {},
   "source": [
    "## [Chapter 6.1-6.4](http://www.greenteapress.com/thinkpython/html/thinkpython007.html)\n",
    "\n",
    "Note: the exercise numbers below match up with the reading for ease of cross referencing."
   ]
  },
  {
   "cell_type": "markdown",
   "metadata": {},
   "source": [
    "## 6.1 Return values"
   ]
  },
  {
   "cell_type": "markdown",
   "metadata": {},
   "source": [
    "**Quick check:** What is a _fruitful function_?"
   ]
  },
  {
   "cell_type": "markdown",
   "metadata": {},
   "source": [
    "Fruitful functions are functions that yield results"
   ]
  },
  {
   "cell_type": "code",
   "execution_count": null,
   "metadata": {
    "collapsed": true
   },
   "outputs": [],
   "source": [
    "def area(radius):\n",
    "    return math.pi * radius**2\n",
    "#this is a fruitful function because it returns a value"
   ]
  },
  {
   "cell_type": "markdown",
   "metadata": {},
   "source": [
    "Code that appears after a return statement is called dead code\n",
    "\n",
    "In a fruitful function, ensure every possible path throught the program hits a return statement"
   ]
  },
  {
   "cell_type": "markdown",
   "metadata": {},
   "source": [
    "### Exercise 1  \n",
    "Write a `compare` function that returns `1` if `x > y`, `0` if `x == y`, and `-1` if `x < y`."
   ]
  },
  {
   "cell_type": "code",
   "execution_count": 4,
   "metadata": {
    "collapsed": false
   },
   "outputs": [
    {
     "data": {
      "text/plain": [
       "0"
      ]
     },
     "execution_count": 4,
     "metadata": {},
     "output_type": "execute_result"
    }
   ],
   "source": [
    "def compare(x,y):\n",
    "    if x > y:\n",
    "        return 1\n",
    "    elif x==y:\n",
    "        return 0\n",
    "    elif x < y:\n",
    "        return -1\n",
    "    \n",
    "compare(0,0)\n"
   ]
  },
  {
   "cell_type": "markdown",
   "metadata": {},
   "source": [
    "**Quick check:** Modify the `absolute_value` function so that it returns the correct result for all integer inputs."
   ]
  },
  {
   "cell_type": "code",
   "execution_count": 9,
   "metadata": {
    "collapsed": false
   },
   "outputs": [
    {
     "data": {
      "text/plain": [
       "4"
      ]
     },
     "execution_count": 9,
     "metadata": {},
     "output_type": "execute_result"
    }
   ],
   "source": [
    "def absolute_value(x):\n",
    "    if x < 0:\n",
    "        return -x\n",
    "    elif x > 0 or x==0:\n",
    "        return x\n",
    "\n",
    "absolute_value(-4)"
   ]
  },
  {
   "cell_type": "markdown",
   "metadata": {},
   "source": [
    "## 6.2 Incremental development"
   ]
  },
  {
   "cell_type": "markdown",
   "metadata": {},
   "source": [
    "incremental development - testing small amout of code at a time to avoid long debugging sessions\n",
    "\n",
    "print statements are useful for debugging functions but should be removed once the function is working - that kind of code is called scaffolding\n",
    "\n",
    "1. start with a working program and make small incremental changes\n",
    "2. use temporary variables to hold intermediate values\n",
    "3. one the program is working, remove scaffolding"
   ]
  },
  {
   "cell_type": "markdown",
   "metadata": {},
   "source": [
    "### Exercise 2  \n",
    "Use incremental development to write a function called `hypotenuse` that returns the length of the hypotenuse of a right triangle given the lengths of the two legs as arguments. Record each stage of the development process as you go, using as many cells as you need."
   ]
  },
  {
   "cell_type": "code",
   "execution_count": 10,
   "metadata": {
    "collapsed": true
   },
   "outputs": [],
   "source": [
    "def hypotenuse (a,b):\n",
    "    print c\n",
    "    return c"
   ]
  },
  {
   "cell_type": "code",
   "execution_count": 15,
   "metadata": {
    "collapsed": false
   },
   "outputs": [
    {
     "name": "stdout",
     "output_type": "stream",
     "text": [
      "10.0\n"
     ]
    },
    {
     "data": {
      "text/plain": [
       "10.0"
      ]
     },
     "execution_count": 15,
     "metadata": {},
     "output_type": "execute_result"
    }
   ],
   "source": [
    "from math import sqrt\n",
    "def hypotenuse (a,b):\n",
    "    c = sqrt(a**2 + b**2)\n",
    "    print c\n",
    "    return c\n",
    "\n",
    "hypotenuse (6,8)"
   ]
  },
  {
   "cell_type": "markdown",
   "metadata": {},
   "source": [
    "## 6.3 Composition"
   ]
  },
  {
   "cell_type": "markdown",
   "metadata": {},
   "source": [
    "composition is the ability to call one function from within another"
   ]
  },
  {
   "cell_type": "code",
   "execution_count": null,
   "metadata": {
    "collapsed": true
   },
   "outputs": [],
   "source": [
    "radius = distance (xc, yc, xp, yp)\n",
    "result = area(radius)\n",
    "\n",
    "def circle_area(xc,yc,xp,yp):\n",
    "    return area(distance(xc, yc, xp, yp))"
   ]
  },
  {
   "cell_type": "markdown",
   "metadata": {},
   "source": [
    "## 6.4 Boolean functions"
   ]
  },
  {
   "cell_type": "code",
   "execution_count": null,
   "metadata": {
    "collapsed": true
   },
   "outputs": [],
   "source": [
    "##functions can return booleans\n",
    "def is_divisible(x,y):\n",
    "    if x%y == 0:\n",
    "        return True\n",
    "    else:\n",
    "        return False"
   ]
  },
  {
   "cell_type": "code",
   "execution_count": null,
   "metadata": {
    "collapsed": true
   },
   "outputs": [],
   "source": [
    "# often used in conditional statements\n",
    "if is_divisible(x,y):\n",
    "    print \"x is divisible by y\""
   ]
  },
  {
   "cell_type": "markdown",
   "metadata": {},
   "source": [
    "### Exercise 3  \n",
    "Write a function `is_between(x, y, z)` that returns `True` if `x ≤ y ≤ z` or `False` otherwise."
   ]
  },
  {
   "cell_type": "code",
   "execution_count": 19,
   "metadata": {
    "collapsed": false
   },
   "outputs": [
    {
     "data": {
      "text/plain": [
       "False"
      ]
     },
     "execution_count": 19,
     "metadata": {},
     "output_type": "execute_result"
    }
   ],
   "source": [
    "def is_between(x,y,z):\n",
    "    return x <= y <= z \n",
    "\n",
    "is_between(2,3,2)"
   ]
  },
  {
   "cell_type": "markdown",
   "metadata": {},
   "source": [
    "## [Chapter 7](http://www.greenteapress.com/thinkpython/html/thinkpython008.html)\n",
    "\n"
   ]
  },
  {
   "cell_type": "markdown",
   "metadata": {},
   "source": [
    "**Quick check:** How do you test for equality in Python?"
   ]
  },
  {
   "cell_type": "markdown",
   "metadata": {},
   "source": [
    "Use the operator =="
   ]
  },
  {
   "cell_type": "markdown",
   "metadata": {},
   "source": [
    " "
   ]
  },
  {
   "cell_type": "markdown",
   "metadata": {},
   "source": [
    "**Challenge:** Prove/disprove the Collatz conjecture :)"
   ]
  },
  {
   "cell_type": "code",
   "execution_count": 3,
   "metadata": {
    "collapsed": false
   },
   "outputs": [
    {
     "name": "stdout",
     "output_type": "stream",
     "text": [
      "34\n",
      "17\n",
      "52\n",
      "26\n",
      "13\n",
      "40\n",
      "20\n",
      "10\n",
      "5\n",
      "16\n",
      "8\n",
      "4\n",
      "2\n",
      "1\n"
     ]
    }
   ],
   "source": [
    "def collatz(n):\n",
    "    while n != 1:\n",
    "        print n\n",
    "        if n%2==0:\n",
    "            n = n/2\n",
    "        else:\n",
    "            n = 3*n + 1\n",
    "    else:\n",
    "        print n\n",
    "collatz(34)"
   ]
  },
  {
   "cell_type": "markdown",
   "metadata": {},
   "source": [
    "## 7.1 Multiple assignment"
   ]
  },
  {
   "cell_type": "markdown",
   "metadata": {},
   "source": [
    "it is legal to make more than one assignment to the same variable"
   ]
  },
  {
   "cell_type": "code",
   "execution_count": 8,
   "metadata": {
    "collapsed": false
   },
   "outputs": [
    {
     "name": "stdout",
     "output_type": "stream",
     "text": [
      "3 7\n"
     ]
    }
   ],
   "source": [
    "bruce = 3 \n",
    "print bruce, \n",
    "bruce = 7\n",
    "print bruce"
   ]
  },
  {
   "cell_type": "markdown",
   "metadata": {},
   "source": [
    "## 7.2 Updating variables"
   ]
  },
  {
   "cell_type": "code",
   "execution_count": 9,
   "metadata": {
    "collapsed": false
   },
   "outputs": [
    {
     "name": "stdout",
     "output_type": "stream",
     "text": [
      "1\n",
      "2\n",
      "3\n",
      "4\n",
      "5\n",
      "6\n",
      "7\n",
      "8\n",
      "9\n",
      "10\n"
     ]
    }
   ],
   "source": [
    "x = 0\n",
    "for x in range (10):\n",
    "    if x<10:\n",
    "        x=x+1\n",
    "        print x"
   ]
  },
  {
   "cell_type": "markdown",
   "metadata": {},
   "source": [
    "## 7.3 The while statement"
   ]
  },
  {
   "cell_type": "code",
   "execution_count": 2,
   "metadata": {
    "collapsed": false
   },
   "outputs": [
    {
     "name": "stdout",
     "output_type": "stream",
     "text": [
      "7\n",
      "6\n",
      "5\n",
      "4\n",
      "3\n",
      "2\n",
      "1\n",
      "Blastoff!\n"
     ]
    }
   ],
   "source": [
    "def countdown(n):\n",
    "    while n>0:\n",
    "        print n\n",
    "        n=n-1\n",
    "    print \"Blastoff!\"\n",
    "    \n",
    "countdown(7)"
   ]
  },
  {
   "cell_type": "markdown",
   "metadata": {},
   "source": [
    "## 7.4 break"
   ]
  },
  {
   "cell_type": "markdown",
   "metadata": {},
   "source": [
    "the break statement is used to jump out of a loop"
   ]
  },
  {
   "cell_type": "code",
   "execution_count": 3,
   "metadata": {
    "collapsed": false
   },
   "outputs": [
    {
     "name": "stdout",
     "output_type": "stream",
     "text": [
      ">asd\n",
      "asd\n",
      ">done\n",
      "Done!\n"
     ]
    }
   ],
   "source": [
    "while True:\n",
    "    line = raw_input('>')\n",
    "    if line == 'done':\n",
    "        break\n",
    "    print line\n",
    "    \n",
    "print 'Done!'"
   ]
  },
  {
   "cell_type": "markdown",
   "metadata": {},
   "source": [
    "## 7.5 square roots"
   ]
  },
  {
   "cell_type": "markdown",
   "metadata": {},
   "source": [
    "### Exercise 2  \n",
    "Encapsulate the loop from Section 7.5 in a function called `square_root` that takes `a` as a parameter, chooses a reasonable value of `x`, and returns an estimate of the square root of `a`."
   ]
  },
  {
   "cell_type": "code",
   "execution_count": 4,
   "metadata": {
    "collapsed": false
   },
   "outputs": [
    {
     "name": "stdout",
     "output_type": "stream",
     "text": [
      "1.0\n"
     ]
    }
   ],
   "source": [
    "def square_root(a):\n",
    "    x = a/2\n",
    "    while True:\n",
    "        y = (x+ a/x) / 2\n",
    "        if abs(y-x) < 0.0000000001:\n",
    "            break\n",
    "        x = y\n",
    "    return x\n",
    "        \n",
    "print square_root(1.0)"
   ]
  },
  {
   "cell_type": "markdown",
   "metadata": {},
   "source": [
    "## 7.6 Algorithms"
   ]
  },
  {
   "cell_type": "markdown",
   "metadata": {},
   "source": [
    "an algorithm is a mechanical process for solving a category of problems"
   ]
  },
  {
   "cell_type": "markdown",
   "metadata": {},
   "source": [
    "## 7.7 Debugging"
   ]
  },
  {
   "cell_type": "markdown",
   "metadata": {},
   "source": [
    "\"debugging by bisection\" - look at the middle of the program for an intermediate value you can check. add a print statement and run the program\n",
    "\n",
    "it doesn't make sense to count lines to find the exact midpoint. instead, think about where there might be errors and places where it is easy to put a check"
   ]
  },
  {
   "cell_type": "markdown",
   "metadata": {},
   "source": [
    "### Exercise 3  \n",
    "To test the square root algorithm you developed in Exercise 2, you could compare it with Python's `math.sqrt` function. Write a function named `test_square_root` that prints a table like this:\n",
    "\n",
    "```python\n",
    "1.0 1.0           1.0           0.0\n",
    "2.0 1.41421356237 1.41421356237 2.22044604925e-16\n",
    "3.0 1.73205080757 1.73205080757 0.0\n",
    "4.0 2.0           2.0           0.0\n",
    "5.0 2.2360679775  2.2360679775  0.0\n",
    "6.0 2.44948974278 2.44948974278 0.0\n",
    "7.0 2.64575131106 2.64575131106 0.0\n",
    "8.0 2.82842712475 2.82842712475 4.4408920985e-16\n",
    "9.0 3.0           3.0           0.0\n",
    "```\n",
    "\n",
    "The first column is a number, `a`; the second column is the square root of a computed with the function from Section 7.5; the third column is the square root computed by `math.sqrt`; the fourth column is the absolute value of the difference between the two estimates."
   ]
  },
  {
   "cell_type": "code",
   "execution_count": 48,
   "metadata": {
    "collapsed": false
   },
   "outputs": [
    {
     "name": "stdout",
     "output_type": "stream",
     "text": [
      "1.0\t1.0       \t1.0       \t1.11022302463e-15\t\n",
      "2.0\t1.41421356237\t1.41421356237\t1.59472435257e-12\t\n",
      "3.0\t1.73205080757\t1.73205080757\t0.0\t\n",
      "4.0\t2.0       \t2.0       \t0.0\t\n",
      "5.0\t2.2360679775\t2.2360679775\t0.0\t\n",
      "6.0\t2.44948974278\t2.44948974278\t8.881784197e-16\t\n",
      "7.0\t2.64575131106\t2.64575131106\t1.02584607475e-13\t\n",
      "8.0\t2.82842712475\t2.82842712475\t3.18944870514e-12\t\n",
      "9.0\t3.00000000004\t3.0       \t3.9321434997e-11\t\n"
     ]
    }
   ],
   "source": [
    "from math import sqrt\n",
    "\n",
    "def test_square_root():\n",
    "    for x in range (1,10):\n",
    "        num1 = float(x)\n",
    "        num2 = square_root(num1)\n",
    "        num3 = sqrt(num1)\n",
    "        num4 = abs(num3-num2)\n",
    "        print '{}\\t'.format(num1),\n",
    "        print '{:<10}\\t'.format(num2),\n",
    "        print '{:<10}\\t'.format(num3),\n",
    "        print '{}\\t'.format(num4)\n",
    "        \n",
    "test_square_root()"
   ]
  },
  {
   "cell_type": "markdown",
   "metadata": {},
   "source": [
    "## Challenge: Exercise 5  (optional)\n",
    "The mathematician Srinivasa Ramanujan found an infinite series that can be used to generate a numerical approximation of\n",
    "$\\frac{1}{\\pi}$:\n",
    "\n",
    "$$\\frac{1}{\\pi} = \\frac{2 \\sqrt{2}}{9801} \\sum_{k=0}^{\\infty} \\frac{(4k)! (1103+26390k)}{(k!)^4 396^{4k}}$$\n",
    " \n",
    "Write a function called `estimate_pi` that uses this formula to compute and return an estimate of $\\pi$. It should use a `while` loop to compute terms of the summation until the last term is smaller than `1e-15` (which is Python notation for $10^{−15}$). You can check the result by comparing it to `math.pi`.\n",
    "\n",
    "[Possible solution](http://thinkpython.com/code/pi.py) (give the exercise a try before viewing the solution)"
   ]
  },
  {
   "cell_type": "code",
   "execution_count": 73,
   "metadata": {
    "collapsed": false
   },
   "outputs": [
    {
     "name": "stdout",
     "output_type": "stream",
     "text": [
      "this is the estimate of pi 3.14159273001\n",
      "this is pi 3.14159265359\n"
     ]
    }
   ],
   "source": [
    "from math import pi\n",
    "\n",
    "def factorial(n):\n",
    "    if n == 0:\n",
    "        return 1\n",
    "    else:\n",
    "        result = n * factorial(n-1)\n",
    "        return result\n",
    "    \n",
    "def estimate_pi():\n",
    "    k = 0\n",
    "    sum_x = 0\n",
    "    while True:\n",
    "        num = (factorial(4*k))*(1103 + 26390*k)\n",
    "        denom =((factorial(k))**4)*(396**(4*k))\n",
    "        front = ((2*sqrt(2))/(9801))\n",
    "        x = front * (num/denom)\n",
    "        sum_x = sum_x + x\n",
    "        if abs(x) < 10**-15:\n",
    "            break\n",
    "        k +=1\n",
    "    est_pi = 1.0/sum_x\n",
    "    print 'this is the estimate of pi {}'.format(est_pi)\n",
    "    print 'this is pi {}'.format(pi)\n",
    "    \n",
    "estimate_pi()"
   ]
  },
  {
   "cell_type": "markdown",
   "metadata": {},
   "source": [
    "## Reading Journal feedback\n",
    "\n",
    "Have any comments on this Reading Journal? Feel free to leave them below and we'll read them when you submit your journal entry. This could include suggestions to improve the exercises, topics you'd like to see covered in class next time, or other feedback.\n",
    "\n",
    "If you have Python questions or run into problems while completing the reading, you should post them to Piazza instead so you can get a quick response before your journal is submitted."
   ]
  },
  {
   "cell_type": "markdown",
   "metadata": {},
   "source": [
    " "
   ]
  }
 ],
 "metadata": {
  "kernelspec": {
   "display_name": "Python 2",
   "language": "python",
   "name": "python2"
  },
  "language_info": {
   "codemirror_mode": {
    "name": "ipython",
    "version": 2
   },
   "file_extension": ".py",
   "mimetype": "text/x-python",
   "name": "python",
   "nbconvert_exporter": "python",
   "pygments_lexer": "ipython2",
   "version": "2.7.6"
  }
 },
 "nbformat": 4,
 "nbformat_minor": 0
}
