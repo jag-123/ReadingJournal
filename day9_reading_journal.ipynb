{
 "cells": [
  {
   "cell_type": "markdown",
   "metadata": {},
   "source": [
    "# Day 9 Reading Journal\n",
    "\n",
    "This journal includes several required exercises, but it is meant to encourage active reading more generally.  You should use the journal to take detailed notes, catalog questions, and explore the content from Think Python deeply.\n",
    "\n",
    "Reading: Think Python Chapter 13, 15\n",
    "\n",
    "**Due: Monday, February 22 at 12 noon**\n",
    "\n"
   ]
  },
  {
   "cell_type": "markdown",
   "metadata": {},
   "source": [
    "## [Chapter 13](http://www.greenteapress.com/thinkpython/html/thinkpython014.html)\n",
    "\n",
    "The content in this chapter could be very helpful for the text mining mini project. The reading and all exercises within are optional.\n",
    "\n",
    " - Section 13.3-4 gives a good example of some techniques for working with files, processing text, and doing some simple analysis. \n",
    " - Section 13.8 and the Markov generation in Exercise 8 can be a lot of fun. \n",
    " - Now that you know a wide range of different data structures, Section 13.9 starts to give some guidance for choosing between them\n",
    " - Section 13.10 explains Allen's \"4 r's\" of debugging strategy"
   ]
  },
  {
   "cell_type": "markdown",
   "metadata": {},
   "source": [
    "## 13.3 Word histogram"
   ]
  },
  {
   "cell_type": "code",
   "execution_count": 39,
   "metadata": {
    "collapsed": false
   },
   "outputs": [],
   "source": [
    "import string \n",
    "def process_file(filename):\n",
    "    hist = dict()\n",
    "    fp = open(filename)\n",
    "    for line in fp:\n",
    "        process_line(line,hist)\n",
    "    return hist\n",
    "def process_line(line,hist):\n",
    "    line = line.replace('-','')\n",
    "    \n",
    "    for word in line.split():\n",
    "        word = word.strip(string.punctuation + string.whitespace)\n",
    "        word = word.lower()\n",
    "        \n",
    "        hist[word] = hist.get(word, 0) + 1"
   ]
  },
  {
   "cell_type": "markdown",
   "metadata": {},
   "source": [
    "## 13.4 Most common words"
   ]
  },
  {
   "cell_type": "code",
   "execution_count": 42,
   "metadata": {
    "collapsed": false
   },
   "outputs": [
    {
     "ename": "NameError",
     "evalue": "name 'hist' is not defined",
     "output_type": "error",
     "traceback": [
      "\u001b[1;31m---------------------------------------------------------------------------\u001b[0m",
      "\u001b[1;31mNameError\u001b[0m                                 Traceback (most recent call last)",
      "\u001b[1;32m<ipython-input-42-17a0cd5fa6f3>\u001b[0m in \u001b[0;36m<module>\u001b[1;34m()\u001b[0m\n\u001b[0;32m      6\u001b[0m     \u001b[1;32mreturn\u001b[0m \u001b[0mt\u001b[0m\u001b[1;33m\u001b[0m\u001b[0m\n\u001b[0;32m      7\u001b[0m \u001b[1;33m\u001b[0m\u001b[0m\n\u001b[1;32m----> 8\u001b[1;33m \u001b[0mt\u001b[0m \u001b[1;33m=\u001b[0m \u001b[0mmost_common\u001b[0m\u001b[1;33m(\u001b[0m\u001b[0mhist\u001b[0m\u001b[1;33m)\u001b[0m\u001b[1;33m\u001b[0m\u001b[0m\n\u001b[0m\u001b[0;32m      9\u001b[0m \u001b[1;32mfor\u001b[0m \u001b[0mfreq\u001b[0m\u001b[1;33m,\u001b[0m \u001b[0mword\u001b[0m \u001b[1;32min\u001b[0m \u001b[0mt\u001b[0m\u001b[1;33m[\u001b[0m\u001b[1;36m0\u001b[0m\u001b[1;33m:\u001b[0m\u001b[1;36m10\u001b[0m\u001b[1;33m]\u001b[0m\u001b[1;33m:\u001b[0m\u001b[1;33m\u001b[0m\u001b[0m\n\u001b[0;32m     10\u001b[0m     \u001b[1;32mprint\u001b[0m \u001b[0mword\u001b[0m\u001b[1;33m,\u001b[0m \u001b[1;34m'\\t'\u001b[0m\u001b[1;33m,\u001b[0m \u001b[0mfreq\u001b[0m\u001b[1;33m\u001b[0m\u001b[0m\n",
      "\u001b[1;31mNameError\u001b[0m: name 'hist' is not defined"
     ]
    }
   ],
   "source": [
    "def most_common(hist):\n",
    "    t = []\n",
    "    for key,value in hist.items():\n",
    "        t.append((value, key))\n",
    "    t.sort(reverse = True)\n",
    "    return t\n",
    "\n",
    "t = most_common(hist)\n",
    "for freq, word in t[0:10]:\n",
    "    print word, '\\t', freq"
   ]
  },
  {
   "cell_type": "markdown",
   "metadata": {},
   "source": [
    "## [Chapter 15](http://www.greenteapress.com/thinkpython/html/thinkpython016.html)\n",
    "\n",
    "This chapter has very few (and short) exercises, and is more focused on starting to think about classes and objects. If you haven't seen user defined types like classes before, you should read closely and try out some examples on your own. For example, you can write a [Python Tutor example like this one](http://pythontutor.com/visualize.html#code=%23+Example+for+visualizing+object+diagrams+by+stepping+through+the+code%0A%0Aclass+Point(object%29%3A%0A++++%22%22%22Represents+a+point+in+2-D+space.%22%22%22%0A++++pass%0A%0Aclass+Rectangle(object%29%3A%0A++++%22%22%22Represents+a+rectangle.+%0A%0A++++attributes%3A+width,+height,+corner.%0A++++%22%22%22%0A++++pass%0A%0A%0A%23+Create+a+point+to+serve+as+origin+for+our+rectangles%0Ap+%3D+Point(%29%0Ap.x+%3D+10%0Ap.y+%3D+15%0A%0A%23+Create+two+rectangles+with+different+size%0Ar1+%3D+Rectangle(%29%0Ar1.corner+%3D+p%0Ar1.width+%3D+100%0Ar1.height+%3D+100%0A%0Ar2+%3D+Rectangle(%29%0Ar2.corner+%3D+p%0Ar2.width+%3D+50%0Ar2.height+%3D+200%0A%0A%23+Change+the+width+of+r2+-+what+(if+any%29+is+the+effect+on+r1+and+why%3F%0Ar2.width+%3D+150%0Aprint+r1.width%0A%0A%23+Change+the+corner+position+of+r1+-+what+(if+any%29+is+the+effect+on+r2+and+why%3F%0Ar1.corner.x+%3D+20%0Aprint+r2.corner.x&mode=display&origin=opt-frontend.js&cumulative=false&heapPrimitives=false&textReferences=false&py=2&rawInputLstJSON=%5B%5D&curInstr=0) to explore object diagrams and aliasing.\n",
    "\n",
    "**Note**: The sequence of operations we use in this chapter to create class instances and assign their attributes, e.g. \n",
    "\n",
    "```\n",
    "box = Rectangle()\n",
    "box.width = 100.0\n",
    "box.height = 200.0\n",
    "box.corner = Point()\n",
    "box.corner.x = 0.0\n",
    "box.corner.y = 0.0\n",
    "```\n",
    "\n",
    "is somewhat clumsy and error prone. Things will get better in the next couple chapters; feel free to look ahead if you'd like a sneak preview.\n"
   ]
  },
  {
   "cell_type": "markdown",
   "metadata": {},
   "source": [
    "## 15.1 User-defined types\n",
    "- creating a new object is called instantiation and the object is an instance of the class"
   ]
  },
  {
   "cell_type": "code",
   "execution_count": 1,
   "metadata": {
    "collapsed": true
   },
   "outputs": [],
   "source": [
    "# header indicates the new class is a Point which is an object\n",
    "class Point(object):\n",
    "    \"Represents a point in 2-d space\""
   ]
  },
  {
   "cell_type": "markdown",
   "metadata": {},
   "source": [
    "## 15.2 Attributes\n",
    "- you can assign values to an instance using dot notation\n",
    "- elements of an object are called attributes\n",
    "- a state diagram that shows an object and its attributes is an object diagram\n"
   ]
  },
  {
   "cell_type": "markdown",
   "metadata": {},
   "source": [
    "## 15.3 Rectangles"
   ]
  },
  {
   "cell_type": "code",
   "execution_count": 31,
   "metadata": {
    "collapsed": false
   },
   "outputs": [],
   "source": [
    "class Rectangle(object):\n",
    "    \"\"\"Represents a rectangle.\n",
    "    attributes: width, height, corner\"\"\"\n",
    "box = Rectangle()\n",
    "box.width = 100.0\n",
    "box.height = 200.0\n",
    "box.corner = Point()\n",
    "box.corner.x = 0.0\n",
    "box.corner.y = 0.0"
   ]
  },
  {
   "cell_type": "markdown",
   "metadata": {},
   "source": [
    "## 15.4 Instances as return values\n",
    "- functions can return instances"
   ]
  },
  {
   "cell_type": "code",
   "execution_count": 9,
   "metadata": {
    "collapsed": false
   },
   "outputs": [],
   "source": [
    "def find_center(rect):\n",
    "    p = Point()\n",
    "    p.x = rect.corner.x + rect.width/2.0\n",
    "    p.y = rect.corner.y + rect.height/2.0\n",
    "    return p"
   ]
  },
  {
   "cell_type": "markdown",
   "metadata": {},
   "source": [
    "## 15.5 Objects are mutable\n",
    "- you can change the state of an object by making an assignment to one of its attributes\n",
    "- you can also wtrite functions that modify objects"
   ]
  },
  {
   "cell_type": "code",
   "execution_count": 11,
   "metadata": {
    "collapsed": false
   },
   "outputs": [
    {
     "name": "stdout",
     "output_type": "stream",
     "text": [
      "150.0\n",
      "300.0\n",
      "200.0\n",
      "400.0\n"
     ]
    }
   ],
   "source": [
    "def grow_rectangle(rect, dwidth, dheight):\n",
    "    rect.width += dwidth\n",
    "    rect.height += dheight\n",
    "print box.width\n",
    "print box.height\n",
    "grow_rectangle(box, 50, 100)\n",
    "print box.width\n",
    "print box.height"
   ]
  },
  {
   "cell_type": "markdown",
   "metadata": {},
   "source": [
    "## 15.6 Copying\n",
    "- copying an object is an alternative to aliasing\n",
    "- copy module contains a function called copy that duplicates any object\n",
    "- a shallow copy is a copy that copies the object and any references but not the embedded objects\n",
    "    - to deep copy, use copy.deepcopy()"
   ]
  },
  {
   "cell_type": "markdown",
   "metadata": {},
   "source": [
    "## 15.7 Debugging\n",
    "- if you try to access an attribute that doesn't exist you get an AttributeError\n",
    "- you can use type to check what type an object is \n",
    "- you can use hasattr to check if an object has a particular attribute"
   ]
  },
  {
   "cell_type": "code",
   "execution_count": 17,
   "metadata": {
    "collapsed": false
   },
   "outputs": [
    {
     "name": "stdout",
     "output_type": "stream",
     "text": [
      "False\n",
      "False\n"
     ]
    }
   ],
   "source": [
    "p1 = Point()\n",
    "p1.x = 3.0\n",
    "p1.y = 4.0\n",
    "\n",
    "import copy\n",
    "p2 = copy.copy(p1)\n",
    "print p1 == p2\n",
    "print p1 is p2"
   ]
  },
  {
   "cell_type": "markdown",
   "metadata": {},
   "source": [
    "**Quick check:** In about one sentence using your own words, what is a class?"
   ]
  },
  {
   "cell_type": "markdown",
   "metadata": {},
   "source": [
    "A custom type that is defined by the user. "
   ]
  },
  {
   "cell_type": "markdown",
   "metadata": {
    "is_question": true,
    "problem": "Exercise 15.1"
   },
   "source": [
    "### Exercise 1  \n",
    "\n",
    "Write a function called `distance_between_points` that takes two `Points` as arguments and returns the distance between them."
   ]
  },
  {
   "cell_type": "code",
   "execution_count": 4,
   "metadata": {
    "collapsed": false,
    "solution": "Exercise 15.1"
   },
   "outputs": [],
   "source": [
    "import math\n",
    "def distance_between_points(a,b):\n",
    "    a = Point()\n",
    "    b = Point()\n",
    "    math.sqrt((b.x-a.x)**2+(b.y-b.x)**2)"
   ]
  },
  {
   "cell_type": "markdown",
   "metadata": {
    "is_question": true,
    "problem": "Exercise 15.2"
   },
   "source": [
    "### Exercise 2  \n",
    "\n",
    "Write a function named `move_rectangle` that takes a `Rectangle` and two numbers named `dx` and `dy`. It should change the location of the rectangle by adding `dx` to the `x` coordinate of `corner` and adding `dy` to the `y` coordinate of `corner`."
   ]
  },
  {
   "cell_type": "code",
   "execution_count": 37,
   "metadata": {
    "collapsed": false,
    "solution": "Exercise 15.2"
   },
   "outputs": [
    {
     "name": "stdout",
     "output_type": "stream",
     "text": [
      "200.0\n",
      "400.0\n",
      "300.0\n",
      "600.0\n"
     ]
    }
   ],
   "source": [
    "def move_rectangle(rect, dx, dy):\n",
    "    rect.corner.x += dx\n",
    "    rect.corner.y += dy\n",
    "print box.corner.x\n",
    "print box.corner.y\n",
    "move_rectangle(box, 100, 200)\n",
    "print box.corner.x\n",
    "print box.corner.y"
   ]
  },
  {
   "cell_type": "markdown",
   "metadata": {
    "is_question": true,
    "problem": "Exercise 15.3"
   },
   "source": [
    "### Exercise 3  \n",
    "\n",
    "Write a version of `move_rectangle` that creates and returns a new `Rectangle` instead of modifying the old one."
   ]
  },
  {
   "cell_type": "code",
   "execution_count": 36,
   "metadata": {
    "collapsed": false,
    "solution": "Exercise 15.3"
   },
   "outputs": [],
   "source": [
    "import copy\n",
    "def move_new_rectangle(rect,dx,dy):\n",
    "    rect1 = copy.deepcopy(rect)\n",
    "    rect1.corner.x += dx\n",
    "    rect1.corner.y += dy\n",
    "    return rect1"
   ]
  },
  {
   "cell_type": "markdown",
   "metadata": {
    "is_question": true,
    "problem": "Time spent"
   },
   "source": [
    "## Quick poll\n",
    "About how long did you spend working on this Reading Journal?"
   ]
  },
  {
   "cell_type": "markdown",
   "metadata": {
    "poll_response": true,
    "solution": "Time spent"
   },
   "source": [
    " About 2 hours."
   ]
  },
  {
   "cell_type": "markdown",
   "metadata": {
    "is_question": true,
    "problem": "Feedback"
   },
   "source": [
    "## Reading Journal feedback\n",
    "\n",
    "Have any comments on this Reading Journal? Feel free to leave them below and we'll read them when you submit your journal entry. This could include suggestions to improve the exercises, topics you'd like to see covered in class next time, or other feedback.\n",
    "\n",
    "If you have Python questions or run into problems while completing the reading, you should post them to Piazza instead so you can get a quick response before your journal is submitted."
   ]
  },
  {
   "cell_type": "markdown",
   "metadata": {
    "feedback_response": true,
    "solution": "Feedback"
   },
   "source": [
    " "
   ]
  }
 ],
 "metadata": {
  "celltoolbar": "Edit Metadata",
  "kernelspec": {
   "display_name": "Python 2",
   "language": "python",
   "name": "python2"
  },
  "language_info": {
   "codemirror_mode": {
    "name": "ipython",
    "version": 2
   },
   "file_extension": ".py",
   "mimetype": "text/x-python",
   "name": "python",
   "nbconvert_exporter": "python",
   "pygments_lexer": "ipython2",
   "version": "2.7.6"
  }
 },
 "nbformat": 4,
 "nbformat_minor": 0
}
