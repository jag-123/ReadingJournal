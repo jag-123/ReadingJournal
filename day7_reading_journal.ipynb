{
 "cells": [
  {
   "cell_type": "markdown",
   "metadata": {},
   "source": [
    "# Day 7 Reading Journal\n",
    "\n",
    "This journal includes several required exercises, but it is meant to encourage active reading more generally.  You should use the journal to take detailed notes, catalog questions, and explore the content from Think Python deeply.\n",
    "\n",
    "Reading: Think Python Chapter 11, 12\n",
    "\n",
    "**Due: Thursday, February 18 at 12 noon**\n",
    "\n"
   ]
  },
  {
   "cell_type": "markdown",
   "metadata": {},
   "source": [
    "## [Chapter 11](http://www.greenteapress.com/thinkpython/html/thinkpython012.html)\n"
   ]
  },
  {
   "cell_type": "markdown",
   "metadata": {},
   "source": [
    "## 11.1 Dictonary as a set of counters\n",
    "\n",
    "-an implementation is a way of performing a computation"
   ]
  },
  {
   "cell_type": "code",
   "execution_count": 17,
   "metadata": {
    "collapsed": false
   },
   "outputs": [
    {
     "data": {
      "text/plain": [
       "{' ': 2, 'a': 4, 'b': 1, 'e': 1, 'f': 1, 'n': 3, 'r': 1, 's': 1, 'u': 1}"
      ]
     },
     "execution_count": 17,
     "metadata": {},
     "output_type": "execute_result"
    }
   ],
   "source": [
    "def histogram(s):\n",
    "    d = dict()\n",
    "    for c in s:\n",
    "        if c not in d:\n",
    "            d[c] = 1\n",
    "        else:\n",
    "            d[c] += 1\n",
    "    return d\n",
    "histogram(\"bananas are fun\")"
   ]
  },
  {
   "cell_type": "markdown",
   "metadata": {},
   "source": [
    "## 11.2 Looping and dictionaries\n",
    "- using a dictionary in a for statement, traverses the keys of a dictionary"
   ]
  },
  {
   "cell_type": "code",
   "execution_count": 18,
   "metadata": {
    "collapsed": false
   },
   "outputs": [
    {
     "name": "stdout",
     "output_type": "stream",
     "text": [
      "a 3\n",
      "  2\n",
      "b 1\n",
      "e 1\n",
      "i 1\n",
      "l 1\n",
      "o 1\n",
      "n 2\n",
      "s 1\n",
      "v 1\n"
     ]
    }
   ],
   "source": [
    "def print_hist(h):\n",
    "    for c in h:\n",
    "        print c, h[c]\n",
    "h = histogram(\"i love bananas\")\n",
    "print_hist(h)"
   ]
  },
  {
   "cell_type": "markdown",
   "metadata": {},
   "source": [
    "## 11.3 Reverse lookup\n",
    "- given a dictionary d and a key k you can find the corresponding value v = d[k]. This is called a lookup\n",
    "- if you have v and you want k you how to do a reverse lookup but there isnt a simple syntax for it"
   ]
  },
  {
   "cell_type": "code",
   "execution_count": 22,
   "metadata": {
    "collapsed": false
   },
   "outputs": [
    {
     "name": "stdout",
     "output_type": "stream",
     "text": [
      "e\n"
     ]
    }
   ],
   "source": [
    "def reverse_lookup(d,v):\n",
    "    for k in d:\n",
    "        if d[k] == v:\n",
    "            return k\n",
    "    raise ValueError\n",
    "h = histogram('reverse look me up')\n",
    "k = reverse_lookup(h,4)\n",
    "print k"
   ]
  },
  {
   "cell_type": "markdown",
   "metadata": {},
   "source": [
    "## 11.4 Dictionairies and lists\n",
    "- lists can be values in a dictionary but they cant be keys\n",
    "- a hash is a function that takes a value and returns an integer\n",
    "    - keys in a dictionary have to be hashable"
   ]
  },
  {
   "cell_type": "markdown",
   "metadata": {},
   "source": [
    "## 11.5 Memos\n",
    "- a memo is a previously computed value that is stored for later use"
   ]
  },
  {
   "cell_type": "code",
   "execution_count": 65,
   "metadata": {
    "collapsed": false
   },
   "outputs": [
    {
     "name": "stdout",
     "output_type": "stream",
     "text": [
      "Finding tests in NoName\n",
      "Trying:\n",
      "    d = {}\n",
      "Expecting nothing\n",
      "ok\n",
      "Trying:\n",
      "    nchoosek_memo(5, 3, d)\n",
      "Expecting:\n",
      "    10\n",
      "ok\n",
      "Trying:\n",
      "    nchoosek_memo(1, 1, d)\n",
      "Expecting:\n",
      "    1\n",
      "ok\n",
      "Trying:\n",
      "    nchoosek_memo(4, 2, d)\n",
      "Expecting:\n",
      "    6\n",
      "ok\n",
      "47129212243960\n"
     ]
    }
   ],
   "source": [
    "\"\"\" An implementation of nchoosek using Pascal's rule \"\"\"\n",
    "\n",
    "def nchoosek(n, k):\n",
    "    \"\"\" returns the number of combinations of size k\n",
    "        that can be made from n items.\n",
    "\n",
    "        >>> nchoosek(5,3)\n",
    "        10\n",
    "        >>> nchoosek(1,1)\n",
    "        1\n",
    "        >>> nchoosek(4,2)\n",
    "        6\n",
    "    \"\"\"\n",
    "    if k == 0:\n",
    "        return 1\n",
    "    if n == k:\n",
    "        return 1\n",
    "    return nchoosek(n - 1, k - 1) + nchoosek(n - 1, k)\n",
    "\n",
    "def nchoosek_memo(n, k, d):\n",
    "    \"\"\" returns the number of combinations of size k\n",
    "        that can be made from n items.\n",
    "\n",
    "        >>> d = {}\n",
    "        >>> nchoosek_memo(5, 3, d)\n",
    "        10\n",
    "        >>> nchoosek_memo(1, 1, d)\n",
    "        1\n",
    "        >>> nchoosek_memo(4, 2, d)\n",
    "        6\n",
    "    \"\"\"\n",
    "    if k == 0:\n",
    "        return 1\n",
    "    if n == k:\n",
    "        return 1\n",
    "    if (n, k) in d:\n",
    "        return d[(n,k)]\n",
    "\n",
    "    return_value = nchoosek_memo(n - 1, k - 1, d) + nchoosek_memo(n - 1, k, d)\n",
    "    d[(n, k)] = return_value\n",
    "    return return_value\n",
    "\n",
    "if __name__ == '__main__':\n",
    "    import doctest\n",
    "    doctest.run_docstring_examples(nchoosek_memo,globals(), verbose=True)\n",
    "    d = {}\n",
    "    print nchoosek_memo(50, 30, d)"
   ]
  },
  {
   "cell_type": "markdown",
   "metadata": {},
   "source": [
    "## 11.6 Global variables\n",
    "- variables in __main__ are global because they can be accessed from any funtion\n",
    "\n",
    "- to reassign a global variable inside a function you have to declare the global variable before you use it\n",
    "\n",
    "- you can add, remove, and replace elements of a gloval list or dictionary, but if you want to reassign the variable, you have to declare it"
   ]
  },
  {
   "cell_type": "markdown",
   "metadata": {},
   "source": [
    "## 11.7 Long integers\n",
    "- any code that works with an int will also work with a long int\n",
    "- any time the result of a computation is too big to be represented wih an integer, Python converts the result as a long integer"
   ]
  },
  {
   "cell_type": "markdown",
   "metadata": {},
   "source": [
    "## 12.1 Tuples are immutable\n",
    "- tuple is a comma-separated list of values usually enclosed in parentheses\n",
    "- most list operators work on tuples\n",
    "- however, you can't modify the elements of a tuple"
   ]
  },
  {
   "cell_type": "markdown",
   "metadata": {},
   "source": [
    "## 12.2 Tuple assignment"
   ]
  },
  {
   "cell_type": "code",
   "execution_count": 29,
   "metadata": {
    "collapsed": false
   },
   "outputs": [
    {
     "ename": "ValueError",
     "evalue": "too many values to unpack",
     "output_type": "error",
     "traceback": [
      "\u001b[1;31m---------------------------------------------------------------------------\u001b[0m",
      "\u001b[1;31mValueError\u001b[0m                                Traceback (most recent call last)",
      "\u001b[1;32m<ipython-input-29-34217383bf3a>\u001b[0m in \u001b[0;36m<module>\u001b[1;34m()\u001b[0m\n\u001b[1;32m----> 1\u001b[1;33m \u001b[0ma\u001b[0m\u001b[1;33m,\u001b[0m\u001b[0mb\u001b[0m \u001b[1;33m=\u001b[0m \u001b[1;36m1\u001b[0m\u001b[1;33m,\u001b[0m\u001b[1;36m2\u001b[0m\u001b[1;33m,\u001b[0m\u001b[1;36m3\u001b[0m\u001b[1;33m\u001b[0m\u001b[0m\n\u001b[0m",
      "\u001b[1;31mValueError\u001b[0m: too many values to unpack"
     ]
    }
   ],
   "source": [
    "a,b = 1,2,3"
   ]
  },
  {
   "cell_type": "code",
   "execution_count": 30,
   "metadata": {
    "collapsed": false
   },
   "outputs": [
    {
     "name": "stdout",
     "output_type": "stream",
     "text": [
      "test\n",
      "tuples.com\n"
     ]
    }
   ],
   "source": [
    "addr = 'test@tuples.com'\n",
    "uname, domain = addr.split('@')\n",
    "print uname\n",
    "print domain"
   ]
  },
  {
   "cell_type": "markdown",
   "metadata": {},
   "source": [
    "## 12.3 Tuples as return values"
   ]
  },
  {
   "cell_type": "code",
   "execution_count": 31,
   "metadata": {
    "collapsed": false,
    "scrolled": true
   },
   "outputs": [
    {
     "name": "stdout",
     "output_type": "stream",
     "text": [
      "2\n",
      "1\n"
     ]
    }
   ],
   "source": [
    "quot, rem = divmod(7,3)\n",
    "print quot\n",
    "print remb"
   ]
  },
  {
   "cell_type": "code",
   "execution_count": 33,
   "metadata": {
    "collapsed": false
   },
   "outputs": [
    {
     "data": {
      "text/plain": [
       "(1, 5)"
      ]
     },
     "execution_count": 33,
     "metadata": {},
     "output_type": "execute_result"
    }
   ],
   "source": [
    "def min_max(t):\n",
    "    return min(t), max(t)\n",
    "t = [1,2,3,4,5]\n",
    "min_max(t)"
   ]
  },
  {
   "cell_type": "markdown",
   "metadata": {},
   "source": [
    "## 12.4 Variable-length argument tuples\n",
    "- a parameter that begins with * gathers arguments into a tuple\n",
    "- also * can be used to scatter the values"
   ]
  },
  {
   "cell_type": "markdown",
   "metadata": {},
   "source": [
    "## 12.5 Lists and tuples\n",
    "- zip is a built-in function that zips two or more sequences into a list of tuples\n",
    "- enumerate is a built in function that is used to traverse elements of a sequence and their indices"
   ]
  },
  {
   "cell_type": "code",
   "execution_count": 35,
   "metadata": {
    "collapsed": false
   },
   "outputs": [
    {
     "name": "stdout",
     "output_type": "stream",
     "text": [
      "a 0\n",
      "b 1\n",
      "c 2\n"
     ]
    }
   ],
   "source": [
    "s = 'abcd'\n",
    "t = [0,1,2]\n",
    "z = zip(s,t)\n",
    "\n",
    "for letter,number in z:\n",
    "    print letter,number"
   ]
  },
  {
   "cell_type": "markdown",
   "metadata": {},
   "source": [
    "## 12.6 Dictionaries and tuples\n",
    "- dictionaries have a method called items that returns a list of tuples"
   ]
  },
  {
   "cell_type": "code",
   "execution_count": 36,
   "metadata": {
    "collapsed": false
   },
   "outputs": [
    {
     "name": "stdout",
     "output_type": "stream",
     "text": [
      "{'a': 0, 'c': 2, 'b': 1}\n"
     ]
    }
   ],
   "source": [
    "d = dict(zip('abc',range(3)))\n",
    "print d"
   ]
  },
  {
   "cell_type": "markdown",
   "metadata": {},
   "source": [
    "## 12.7 Comparing tuples\n",
    "- starts by comparing the first element from each sequence"
   ]
  },
  {
   "cell_type": "code",
   "execution_count": 39,
   "metadata": {
    "collapsed": false
   },
   "outputs": [
    {
     "data": {
      "text/plain": [
       "True"
      ]
     },
     "execution_count": 39,
     "metadata": {},
     "output_type": "execute_result"
    }
   ],
   "source": [
    "(1,3,5)>(0,4,2)"
   ]
  },
  {
   "cell_type": "code",
   "execution_count": 46,
   "metadata": {
    "collapsed": false
   },
   "outputs": [
    {
     "data": {
      "text/plain": [
       "['computer', 'test', 'face', 'abc', 'a']"
      ]
     },
     "execution_count": 46,
     "metadata": {},
     "output_type": "execute_result"
    }
   ],
   "source": [
    "def sort_by_length(words):\n",
    "    t=[]\n",
    "    for word in words:\n",
    "        t.append((len(word),word))\n",
    "    t.sort(reverse=True)\n",
    "    \n",
    "    res=[]\n",
    "    for length,word in t:\n",
    "        res.append(word)\n",
    "    return res\n",
    "sort_by_length(['a','abc','test','face','computer'])"
   ]
  },
  {
   "cell_type": "markdown",
   "metadata": {},
   "source": [
    "## 12.8 Sequences of sequences\n",
    "1. in some places, like a return statement, tuples are simpler syntactically\n",
    "2. if you want to use a sequence as a dictionary key, you need an immutable type\n",
    "3. using tuples reduces the potential for unexpected behavior"
   ]
  },
  {
   "cell_type": "markdown",
   "metadata": {},
   "source": [
    "**Quick check:** In about one sentence using your own words, what is a dictionary?"
   ]
  },
  {
   "cell_type": "markdown",
   "metadata": {},
   "source": [
    " A dictionary is a generalized form of a list where the indices do not have to be integers."
   ]
  },
  {
   "cell_type": "markdown",
   "metadata": {
    "is_question": true,
    "problem": "Exercise 11.2"
   },
   "source": [
    "### Exercise 2  \n",
    "\n",
    "Dictionaries have a [method called `get`](https://docs.python.org/2/library/stdtypes.html#mapping-types-dict) that takes a key and a default value. If the key appears in the dictionary, `get` returns the corresponding value; otherwise it returns the default value. For example:\n",
    "\n",
    "```\n",
    ">>> h = histogram('a')\n",
    ">>> print h\n",
    "{'a': 1}\n",
    ">>> h.get('a', 0)\n",
    "1\n",
    ">>> h.get('b', 0)\n",
    "0\n",
    "```\n",
    "\n",
    "Use `get` to write `histogram` more concisely. You should be able to eliminate the `if` statement. Add unit tests for your histogram implementation."
   ]
  },
  {
   "cell_type": "code",
   "execution_count": 60,
   "metadata": {
    "collapsed": false,
    "solution": "Exercise 11.2"
   },
   "outputs": [
    {
     "name": "stdout",
     "output_type": "stream",
     "text": [
      "Finding tests in NoName\n",
      "Trying:\n",
      "    histogram(\"apple\")\n",
      "Expecting:\n",
      "    {'a': 1, 'p': 2, 'e': 1, 'l': 1}\n",
      "ok\n",
      "Trying:\n",
      "    histogram(\"a\")\n",
      "Expecting:\n",
      "    {'a': 1}\n",
      "ok\n"
     ]
    }
   ],
   "source": [
    "def histogram(s):\n",
    "    \"\"\" returns the histogram of a string\n",
    "\n",
    "        >>> histogram(\"apple\")\n",
    "        {'a': 1, 'p': 2, 'e': 1, 'l': 1}\n",
    "        >>> histogram(\"a\")\n",
    "        {'a': 1}\n",
    "\n",
    "    \"\"\"\n",
    "    d = dict()\n",
    "    for c in s:\n",
    "        count = d.get(c,0)\n",
    "        d[c] = count + 1\n",
    "    return d\n",
    "\n",
    "import doctest\n",
    "doctest.run_docstring_examples(histogram,globals(), verbose=True)"
   ]
  },
  {
   "cell_type": "markdown",
   "metadata": {
    "is_question": true,
    "problem": "Exercise 11.4"
   },
   "source": [
    "### Exercise 4  \n",
    "\n",
    "Modify `reverse_lookup` so that it builds and returns a list of all keys that map to `v`, or an empty list if there are none. Add unit tests for your implementation."
   ]
  },
  {
   "cell_type": "code",
   "execution_count": 64,
   "metadata": {
    "collapsed": false,
    "solution": "Exercise 11.4"
   },
   "outputs": [
    {
     "name": "stdout",
     "output_type": "stream",
     "text": [
      "Finding tests in NoName\n",
      "Trying:\n",
      "    reverse_lookup({'a': 1, 'p': 2, 'e': 1, 'l': 1},1)\n",
      "Expecting:\n",
      "    ['a', 'e', 'l']\n",
      "ok\n",
      "Trying:\n",
      "    reverse_lookup({'a': 1, 'p': 2, 'e': 1, 'l': 1},2)\n",
      "Expecting:\n",
      "    ['p']\n",
      "ok\n",
      "Trying:\n",
      "    reverse_lookup({'a': 1, 'p': 2, 'e': 1, 'l': 1},3)\n",
      "Expecting:\n",
      "    []\n",
      "ok\n"
     ]
    }
   ],
   "source": [
    "def reverse_lookup(d, v):\n",
    "    \"\"\" finds the keys corresponding to a value in a dictionary\n",
    "\n",
    "        >>> reverse_lookup({'a': 1, 'p': 2, 'e': 1, 'l': 1},1)\n",
    "        ['a', 'e', 'l']\n",
    "        >>> reverse_lookup({'a': 1, 'p': 2, 'e': 1, 'l': 1},2)\n",
    "        ['p']\n",
    "        >>> reverse_lookup({'a': 1, 'p': 2, 'e': 1, 'l': 1},3)\n",
    "        []\n",
    "    \"\"\"\n",
    "    lst = []\n",
    "    for k in d:\n",
    "        if d[k] == v:\n",
    "            lst.append(k)\n",
    "    return lst\n",
    "    \n",
    "import doctest\n",
    "doctest.run_docstring_examples(reverse_lookup,globals(), verbose=True)"
   ]
  },
  {
   "cell_type": "markdown",
   "metadata": {},
   "source": [
    "If you'd like to learn more about errors and exceptions, you can check out the [Python tutorial](https://docs.python.org/2/tutorial/errors.html) or read ahead to [Appendix A](http://www.greenteapress.com/thinkpython/html/thinkpython021.html) of Think Python. If you choose to use doctest for your unit testing, it can also [deal with exceptions](https://docs.python.org/2/library/doctest.html#what-about-exceptions)."
   ]
  },
  {
   "cell_type": "markdown",
   "metadata": {},
   "source": [
    "**Quick check** What type of objects can be used as keys to a dictionary, i.e. what property must they have?"
   ]
  },
  {
   "cell_type": "markdown",
   "metadata": {},
   "source": [
    "they must be immutable "
   ]
  },
  {
   "cell_type": "markdown",
   "metadata": {
    "is_question": true,
    "problem": "Exercise 11.6"
   },
   "source": [
    "### Exercise 6 (modified)\n",
    "\n",
    "Create a memoized version of your Levenshtein distance function from Day 7. What kind of performance change do you see?\n",
    "\n",
    "Optional: If you'd like to get some quantitative results, you could check out the [timeit](https://docs.python.org/2/library/timeit.html) module\n",
    "\n",
    "Note: You can also study Fibonacci here if you prefer."
   ]
  },
  {
   "cell_type": "code",
   "execution_count": 99,
   "metadata": {
    "collapsed": false,
    "solution": "Exercise 11.6"
   },
   "outputs": [
    {
     "name": "stdout",
     "output_type": "stream",
     "text": [
      "Finding tests in NoName\n",
      "Trying:\n",
      "    d = {}\n",
      "Expecting nothing\n",
      "ok\n",
      "Trying:\n",
      "    levenshtein_memo(\"apple\", \"\",d)\n",
      "Expecting:\n",
      "    5\n",
      "ok\n",
      "Trying:\n",
      "    levenshtein_memo(\"battle\", \"bet\",d)\n",
      "Expecting:\n",
      "    4\n",
      "ok\n",
      "Trying:\n",
      "    levenshtein_memo(\"beta\", \"pedal\",d)\n",
      "Expecting:\n",
      "    3\n",
      "ok\n",
      "Trying:\n",
      "    levenshtein_memo(\"kitten\", \"smitten\",d)\n",
      "Expecting:\n",
      "    2\n",
      "ok\n"
     ]
    }
   ],
   "source": [
    "\"\"\" Implements a function that computes the Levenshtein\n",
    "    distance between two strings. \"\"\"\n",
    "\n",
    "def levenshtein_memo(a, b, d):\n",
    "    \"\"\" returns the Levenshtein distance between a and b\n",
    "        >>> d = {}\n",
    "        >>> levenshtein_memo(\"apple\", \"\",d)\n",
    "        5\n",
    "        >>> levenshtein_memo(\"battle\", \"bet\",d)\n",
    "        4\n",
    "        >>> levenshtein_memo(\"beta\", \"pedal\",d)\n",
    "        3\n",
    "        >>> levenshtein_memo(\"kitten\", \"smitten\",d)\n",
    "        2\n",
    "    \"\"\"\n",
    "    if a == \"\":\n",
    "        return len(b)\n",
    "    if b == \"\":\n",
    "        return len(a)\n",
    "    if (len(a),len(b)) in d:\n",
    "        return d[(len(a),len(b))]\n",
    "\n",
    "    # Strategy 1: Change the first character to match\n",
    "    if a[0] == b[0]:\n",
    "        option1 = levenshtein_memo(a[1:], b[1:], d) # First characters already match, so no extra distance\n",
    "        d[(a,b)] = option1\n",
    "    else:\n",
    "        option1 = levenshtein_memo(a[1:], b[1:], d) + 1\n",
    "        d[(a,b)] = option1\n",
    "\n",
    "    # Strategy 2: Drop the first character of b\n",
    "    option2 = 1 + levenshtein_memo(a, b[1:], d)\n",
    "    d[(a,b)] = option2\n",
    "    \n",
    "    # Strategy 3: Drop the first character of a\n",
    "    option3 = 1 + levenshtein_memo(a[1:], b, d)\n",
    "    d[(a,b)] = option3\n",
    "\n",
    "    return min(option1, option2, option3)\n",
    "\n",
    "# Run only if called from command line, not when imported\n",
    "if __name__ == \"__main__\":\n",
    "    import doctest\n",
    "    d ={}\n",
    "    doctest.run_docstring_examples(levenshtein_memo,globals(), verbose=True)"
   ]
  },
  {
   "cell_type": "markdown",
   "metadata": {},
   "source": [
    "## [Chapter 12](http://www.greenteapress.com/thinkpython/html/thinkpython013.html)\n",
    "\n",
    "**Quick check:** In about one sentence using your own words, what is a tuple?"
   ]
  },
  {
   "cell_type": "markdown",
   "metadata": {},
   "source": [
    " A sequence of immutable objects."
   ]
  },
  {
   "cell_type": "markdown",
   "metadata": {
    "is_question": true,
    "problem": "Exercise 12.1"
   },
   "source": [
    "### Exercise 1  \n",
    "\n",
    "Many of the built-in functions use variable-length argument tuples. For example, `max` and `min` can take any number of arguments:\n",
    "\n",
    "```\n",
    ">>> max(1,2,3)\n",
    "3\n",
    "```\n",
    "\n",
    "But `sum` does not.\n",
    "\n",
    "```\n",
    ">>> sum(1,2,3)\n",
    "TypeError: sum expected at most 2 arguments, got 3\n",
    "```\n",
    "\n",
    "Write a function called ```sumall``` that takes any number of arguments and returns their sum. \n",
    "\n",
    "Write unit tests for your function. Do I actually need to keep saying this? Let's assume it's always a good idea :)"
   ]
  },
  {
   "cell_type": "code",
   "execution_count": 71,
   "metadata": {
    "collapsed": false,
    "solution": "Exercise 12.1"
   },
   "outputs": [
    {
     "name": "stdout",
     "output_type": "stream",
     "text": [
      "Finding tests in NoName\n",
      "Trying:\n",
      "    sumall(2,3)\n",
      "Expecting:\n",
      "    5\n",
      "ok\n",
      "Trying:\n",
      "    sumall(1,1,1,1)\n",
      "Expecting:\n",
      "    4\n",
      "ok\n",
      "Trying:\n",
      "    sumall(1,3,5,7,9)\n",
      "Expecting:\n",
      "    25\n",
      "ok\n"
     ]
    }
   ],
   "source": [
    "def sumall(*args):\n",
    "    \"\"\" returns the sum of all arguments\n",
    "        >>> sumall(2,3)\n",
    "        5\n",
    "        >>> sumall(1,1,1,1)\n",
    "        4\n",
    "        >>> sumall(1,3,5,7,9)\n",
    "        25\n",
    "        \"\"\"\n",
    "    return sum(args)\n",
    "\n",
    "if __name__ == \"__main__\":\n",
    "    import doctest\n",
    "    doctest.run_docstring_examples(sumall,globals(), verbose=True)"
   ]
  },
  {
   "cell_type": "markdown",
   "metadata": {},
   "source": [
    "If you're interested in more flexible ways to pass arguments to functions, check out the [Python tutorial](https://docs.python.org/2/tutorial/controlflow.html#more-on-defining-functions). For instance, you can also use keyword arguments, which are collected into a dictionary just like `*` gathers variable numbers of positional arguments into a tuple.\n",
    "\n",
    "This pattern is very common for defining functions with complex optional behaviors in Python, and you will often see definitions like:\n",
    "\n",
    "```\n",
    "def my_func(required_argument1, *arguments, **keywords):\n",
    "    ...\n",
    "```"
   ]
  },
  {
   "cell_type": "markdown",
   "metadata": {
    "is_question": true,
    "problem": "Exercise 12 sort"
   },
   "source": [
    "### Exercise\n",
    "\n",
    "Write a function `sort_by_last_letter` that takes a list of words and returns a new list with the words sorted alphabetically by the _last letter_ in the word. Hint: use the **Decorate, Sort, Undecorate** pattern. Write unit tests for your function."
   ]
  },
  {
   "cell_type": "code",
   "execution_count": 73,
   "metadata": {
    "collapsed": false,
    "solution": "Exercise 12 sort"
   },
   "outputs": [
    {
     "name": "stdout",
     "output_type": "stream",
     "text": [
      "Finding tests in NoName\n",
      "Trying:\n",
      "    sort_by_last_letter(['abc','dog','banana','cat'])\n",
      "Expecting:\n",
      "    ['banana', 'abc', 'dog', 'cat']\n",
      "ok\n",
      "Trying:\n",
      "    sort_by_last_letter(['row','a','z','kappa'])\n",
      "Expecting:\n",
      "    ['a', 'kappa', 'row', 'z']\n",
      "ok\n"
     ]
    }
   ],
   "source": [
    "def sort_by_last_letter(lst):\n",
    "    \"\"\" returns a list of words sorted by last letter alphabetically\n",
    "        >>> sort_by_last_letter(['abc','dog','banana','cat'])\n",
    "        ['banana', 'abc', 'dog', 'cat']\n",
    "        >>> sort_by_last_letter(['row','a','z','kappa'])\n",
    "        ['a', 'kappa', 'row', 'z']\n",
    "        \"\"\"\n",
    "    sorted_lst = []\n",
    "    for word in lst:\n",
    "        sorted_lst.append((word[-1],word))\n",
    "    sorted_lst.sort()\n",
    "    \n",
    "    res = []\n",
    "    for last_letter, word in sorted_lst:\n",
    "        res.append(word)\n",
    "    return res\n",
    "if __name__ == \"__main__\":\n",
    "    import doctest\n",
    "    doctest.run_docstring_examples(sort_by_last_letter,globals(), verbose=True)"
   ]
  },
  {
   "cell_type": "markdown",
   "metadata": {},
   "source": [
    "**Quick check** Give an example of when you might use each sequence type:\n",
    "\n",
    "- tuple\n",
    "\n",
    "- list\n",
    "\n",
    "- string"
   ]
  },
  {
   "cell_type": "markdown",
   "metadata": {},
   "source": [
    " - Most often would use tuples as keys to dictionary because keys have to be immutable\n",
    " - lists can be constantly changed/ updated and can hold any type of data so I would use a list for things I think would need to be changed\n",
    " - strings are also immutable and they can only hold a set of characters "
   ]
  },
  {
   "cell_type": "markdown",
   "metadata": {
    "is_question": true,
    "problem": "Exercise 12.3"
   },
   "source": [
    "### Exercise 3  \n",
    "\n",
    "Write a function called `most_frequent` that takes a string and prints the letters in decreasing order of frequency. Find text samples from several different languages and see how letter frequency varies between languages. Compare your results with the tables at http://en.wikipedia.org/wiki/Letter_frequencies. \n",
    "\n",
    "Allen's solution (try it on your own first): http://thinkpython.com/code/most_frequent.py. "
   ]
  },
  {
   "cell_type": "code",
   "execution_count": 95,
   "metadata": {
    "collapsed": false,
    "solution": "Exercise 12.3"
   },
   "outputs": [
    {
     "name": "stdout",
     "output_type": "stream",
     "text": [
      "Finding tests in NoName\n",
      "Trying:\n",
      "    most_frequent('test')\n",
      "Expecting:\n",
      "    ['t', 's', 'e']\n",
      "ok\n",
      "Trying:\n",
      "    most_frequent('sequences')\n",
      "Expecting:\n",
      "    ['e', 's', 'u', 'q', 'n', 'c']\n",
      "ok\n"
     ]
    }
   ],
   "source": [
    "def most_frequent(string):\n",
    "    \"\"\" prints the letters of a string in decreasing order of frequency\n",
    "        >>> most_frequent('test')\n",
    "        ['t', 's', 'e']\n",
    "        >>> most_frequent('sequences')\n",
    "        ['e', 's', 'u', 'q', 'n', 'c']\n",
    "        \"\"\"\n",
    "    lst = []\n",
    "    hist = histogram(string)\n",
    "    for letter,number in hist.iteritems():\n",
    "        lst.append((number,letter))\n",
    "    lst.sort(reverse=True)\n",
    "    res = []\n",
    "    for number,letter in lst:\n",
    "        res.append(letter)\n",
    "    return res\n",
    "\n",
    "if __name__ == \"__main__\":\n",
    "    import doctest\n",
    "    doctest.run_docstring_examples(most_frequent,globals(), verbose=True)"
   ]
  },
  {
   "cell_type": "markdown",
   "metadata": {
    "is_question": true,
    "problem": "Exercise 12.6"
   },
   "source": [
    "### Challenge: Exercise 6   (optional)\n",
    "\n",
    "From a [Car Talk Puzzler](http://www.cartalk.com/content/puzzlers):\n",
    "\n",
    "What is the longest English word, that remains a valid English word, as you remove its letters one at a time?\n",
    "\n",
    "Now, letters can be removed from either end, or the middle, but you can’t rearrange any of the letters. Every time you drop a letter, you wind up with another English word. If you do that, you’re eventually going to wind up with one letter and that too is going to be an English word—one that’s found in the dictionary. I want to know what’s the longest word and how many letters does it have?\n",
    "\n",
    "I’m going to give you a little modest example: Sprite. Ok? You start off with sprite, you take a letter off, one from the interior of the word, take the r away, and we’re left with the word spite, then we take the e off the end, we’re left with spit, we take the s off, we’re left with pit, it, and I. \n",
    "\n",
    "Write a program to find all words that can be reduced in this way, and then find the longest one.\n",
    "\n",
    "This exercise is a little more challenging than most, so here are some suggestions:\n",
    "\n",
    "- You might want to write a function that takes a word and computes a list of all the words that can be formed by removing one letter. These are the “children” of the word.\n",
    "- Recursively, a word is reducible if any of its children are reducible. As a base case, you can consider the empty string reducible.\n",
    "- The word list from [Chapter 9.1](http://www.greenteapress.com/thinkpython/html/thinkpython010.html) Exercise 1 doesn’t contain single letter words. So you might want to add “I”, “a”, and the empty string.\n",
    "- To improve the performance of your program, you might want to memoize the words that are known to be reducible.\n",
    "\n",
    "Allen's solution: http://thinkpython.com/code/reducible.py."
   ]
  },
  {
   "cell_type": "code",
   "execution_count": null,
   "metadata": {
    "collapsed": true,
    "solution": "Exercise 12.6"
   },
   "outputs": [],
   "source": []
  },
  {
   "cell_type": "markdown",
   "metadata": {
    "is_question": true,
    "problem": "Feedback"
   },
   "source": [
    "## Reading Journal feedback\n",
    "\n",
    "Have any comments on this Reading Journal? Feel free to leave them below and we'll read them when you submit your journal entry. This could include suggestions to improve the exercises, topics you'd like to see covered in class next time, or other feedback.\n",
    "\n",
    "If you have Python questions or run into problems while completing the reading, you should post them to Piazza instead so you can get a quick response before your journal is submitted."
   ]
  },
  {
   "cell_type": "markdown",
   "metadata": {
    "feedback_response": true,
    "solution": "Feedback"
   },
   "source": [
    " "
   ]
  }
 ],
 "metadata": {
  "celltoolbar": "Edit Metadata",
  "kernelspec": {
   "display_name": "Python 2",
   "language": "python",
   "name": "python2"
  },
  "language_info": {
   "codemirror_mode": {
    "name": "ipython",
    "version": 2
   },
   "file_extension": ".py",
   "mimetype": "text/x-python",
   "name": "python",
   "nbconvert_exporter": "python",
   "pygments_lexer": "ipython2",
   "version": "2.7.6"
  }
 },
 "nbformat": 4,
 "nbformat_minor": 0
}
